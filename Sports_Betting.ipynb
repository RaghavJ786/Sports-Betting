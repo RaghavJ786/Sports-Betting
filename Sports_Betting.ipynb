{
  "nbformat": 4,
  "nbformat_minor": 0,
  "metadata": {
    "colab": {
      "name": "Sports Betting.ipynb",
      "version": "0.3.2",
      "provenance": [],
      "collapsed_sections": [],
      "include_colab_link": true
    },
    "kernelspec": {
      "name": "python3",
      "display_name": "Python 3"
    }
  },
  "cells": [
    {
      "cell_type": "markdown",
      "metadata": {
        "id": "view-in-github",
        "colab_type": "text"
      },
      "source": [
        "<a href=\"https://colab.research.google.com/github/RaghavJ786/Sports-Betting/blob/master/Sports_Betting.ipynb\" target=\"_parent\"><img src=\"https://colab.research.google.com/assets/colab-badge.svg\" alt=\"Open In Colab\"/></a>"
      ]
    },
    {
      "metadata": {
        "id": "dYNZYnDecRBj",
        "colab_type": "code",
        "colab": {
          "base_uri": "https://localhost:8080/",
          "height": 55
        },
        "outputId": "b3e7a46f-c2b6-4637-8fdb-6f91ca0b325d"
      },
      "cell_type": "code",
      "source": [
        "#Discount Factor\n",
        "gamma = 1\n",
        "#probability of home team winning\n",
        "p = 0.7\n",
        "#Number of available states\n",
        "numstates = 100\n",
        "reward = [0 for _ in range(101)]\n",
        "reward[100]=1\n",
        "#Threshold value for comparing the difference\n",
        "theta = 0.00000001\n",
        "value=[0 for  _ in range (101)]\n",
        "policy = [0 for _ in range(101)]\n",
        "\n",
        "def reinforcement_learning():\n",
        "  delta=1\n",
        "  while delta>theta:\n",
        "    delta=0\n",
        "    for i in range(1,numstates):\n",
        "      oldvalue=value[i]\n",
        "      bellmanequation(i)\n",
        "      diff=abs(oldvalue-value[i])\n",
        "      delta=max(delta,diff)\n",
        "  print(value)\n",
        "  \n",
        "def bellmanequation(num):\n",
        "  optimalvalue=0\n",
        "  for bet in range(0,min(num,100-num)+1):\n",
        "    win = num+bet\n",
        "    loss=num-bet\n",
        "    sum = p*(reward[win]+gamma*value[win]) + (1-p)*(reward[loss]+gamma*value[loss])\n",
        "    \n",
        "    if(sum>optimalvalue):\n",
        "      optimalvalue=sum\n",
        "      value[num]=sum\n",
        "      policy[num]=bet\n",
        "      \n",
        "      \n",
        "reinforcement_learning()\n",
        "    "
      ],
      "execution_count": 1,
      "outputs": [
        {
          "output_type": "stream",
          "text": [
            "[0, 0.5714285143629422, 0.8163264588988909, 0.9212827302379177, 0.9662639974969587, 0.9855416901221977, 0.9938035636977924, 0.9973443708184194, 0.9988618628093515, 0.999512219002437, 0.9997909449873204, 0.9999104004332631, 0.9999615967306594, 0.999983538841987, 0.9999929432423501, 0.9999969741835615, 0.9999987020962042, 0.9999994429073451, 0.9999997606072685, 0.9999998969224962, 0.9999999554625794, 0.9999999806410802, 0.9999999914995634, 0.9999999962041367, 0.9999999982586789, 0.9999999991679684, 0.999999999579263, 0.999999999771731, 0.9999999998663549, 0.9999999999159983, 0.9999999999440777, 0.9999999999611969, 0.999999999972326, 0.9999999999799292, 0.9999999999853038, 0.9999999999891815, 0.9999999999919931, 0.999999999994043, 0.9999999999955428, 0.9999999999966481, 0.9999999999974657, 0.9999999999980747, 0.9999999999985303, 0.9999999999988736, 0.9999999999991331, 0.9999999999993306, 0.9999999999994815, 0.9999999999995974, 0.9999999999996866, 0.9999999999997558, 0.9999999999998093, 0.999999999999851, 0.9999999999998836, 0.999999999999909, 0.999999999999929, 0.9999999999999445, 0.9999999999999568, 0.9999999999999664, 0.999999999999974, 0.9999999999999798, 0.9999999999999846, 0.9999999999999882, 0.9999999999999911, 0.9999999999999932, 0.9999999999999949, 0.9999999999999962, 0.9999999999999972, 0.9999999999999981, 0.9999999999999987, 0.9999999999999992, 0.9999999999999996, 0.9999999999999998, 1.0, 1.0, 1.0, 1.0, 1.0, 1.0, 1.0, 1.0, 1.0, 1.0, 1.0, 1.0, 1.0, 1.0, 1.0, 1.0, 1.0, 1.0, 1.0, 1.0, 1.0, 1.0, 1.0, 1.0, 1.0, 1.0, 1.0, 1.0, 0]\n"
          ],
          "name": "stdout"
        }
      ]
    },
    {
      "metadata": {
        "id": "Nqq2LX_fegRY",
        "colab_type": "code",
        "colab": {}
      },
      "cell_type": "code",
      "source": [
        "import matplotlib.pyplot as plt\n",
        "import pandas as pd\n",
        "import numpy as np"
      ],
      "execution_count": 0,
      "outputs": []
    },
    {
      "metadata": {
        "id": "8HTn2gb9mRwt",
        "colab_type": "code",
        "colab": {
          "base_uri": "https://localhost:8080/",
          "height": 365
        },
        "outputId": "d5d67859-0ee2-4dbc-9af4-d38343e3b99b"
      },
      "cell_type": "code",
      "source": [
        "plt.plot(policy)\n",
        "plt.show"
      ],
      "execution_count": 3,
      "outputs": [
        {
          "output_type": "execute_result",
          "data": {
            "text/plain": [
              "<function matplotlib.pyplot.show>"
            ]
          },
          "metadata": {
            "tags": []
          },
          "execution_count": 3
        },
        {
          "output_type": "display_data",
          "data": {
            "image/png": "[encoded data removed]",
            "text/plain": [
              "<Figure size 576x396 with 1 Axes>"
            ]
          },
          "metadata": {
            "tags": []
          }
        }
      ]
    },
    {
      "metadata": {
        "id": "M9_8Kpcgmugh",
        "colab_type": "code",
        "colab": {
          "base_uri": "https://localhost:8080/",
          "height": 365
        },
        "outputId": "91578034-41ed-4f00-a8c7-db43dcda0f1d"
      },
      "cell_type": "code",
      "source": [
        "plt.plot(value)\n",
        "plt.show"
      ],
      "execution_count": 4,
      "outputs": [
        {
          "output_type": "execute_result",
          "data": {
            "text/plain": [
              "<function matplotlib.pyplot.show>"
            ]
          },
          "metadata": {
            "tags": []
          },
          "execution_count": 4
        },
        {
          "output_type": "display_data",
          "data": {
            "image/png": "[encoded data removed]",
            "text/plain": [
              "<Figure size 576x396 with 1 Axes>"
            ]
          },
          "metadata": {
            "tags": []
          }
        }
      ]
    },
    {
      "metadata": {
        "id": "mXhY26cUnxzm",
        "colab_type": "code",
        "colab": {}
      },
      "cell_type": "code",
      "source": [
        ""
      ],
      "execution_count": 0,
      "outputs": []
    }
  ]
}